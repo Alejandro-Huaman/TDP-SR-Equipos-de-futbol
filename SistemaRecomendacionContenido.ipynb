{
 "cells": [
  {
   "cell_type": "code",
   "execution_count": 178,
   "metadata": {},
   "outputs": [],
   "source": [
    "import pandas as pd\n",
    "from math import sqrt\n",
    "import numpy as np\n",
    "import matplotlib.pyplot as plt"
   ]
  },
  {
   "cell_type": "code",
   "execution_count": 179,
   "metadata": {},
   "outputs": [
    {
     "name": "stdout",
     "output_type": "stream",
     "text": [
      "Equipos de futbol:\n",
      "    teamId                       name                  gamestyle\n",
      "0       1               Alianza Lima  mixed|defensive|offensive\n",
      "1       2  Universitario de Deportes  mixed|defensive|offensive\n",
      "2       3           Sporting Cristal            offensive|mixed\n",
      "3       4                     Melgar        offensive|defensive\n",
      "4       5              Cesar Vallejo                  defensive\n"
     ]
    }
   ],
   "source": [
    "#Lectura del CSV de los equipos de futbol\n",
    "\n",
    "equipos = pd.read_csv('equipos_futbol.csv')\n",
    "calificaciones = pd.read_csv('matriz_calificaciones.csv')\n",
    "\n",
    "print('Equipos de futbol:\\n',equipos.head())"
   ]
  },
  {
   "cell_type": "code",
   "execution_count": 180,
   "metadata": {},
   "outputs": [],
   "source": [
    "#Creacion del vector para los estilos de juego de cada equipo de futbol\n",
    "\n",
    "equipos['gamestyle'] = equipos.gamestyle.str.split('|') "
   ]
  },
  {
   "cell_type": "code",
   "execution_count": 181,
   "metadata": {},
   "outputs": [
    {
     "name": "stdout",
     "output_type": "stream",
     "text": [
      "Matriz de equipos codificados:\n",
      "     teamId                       name                      gamestyle  mixed  \\\n",
      "0        1               Alianza Lima  [mixed, defensive, offensive]    1.0   \n",
      "1        2  Universitario de Deportes  [mixed, defensive, offensive]    1.0   \n",
      "2        3           Sporting Cristal             [offensive, mixed]    1.0   \n",
      "3        4                     Melgar         [offensive, defensive]    0.0   \n",
      "4        5              Cesar Vallejo                    [defensive]    0.0   \n",
      "..     ...                        ...                            ...    ...   \n",
      "57      58        Paris Saint-Germain  [mixed, defensive, offensive]    1.0   \n",
      "58      59                    Benfica                    [offensive]    0.0   \n",
      "59      60                   Juventus  [mixed, defensive, offensive]    1.0   \n",
      "60      61              Maccabi Haifa         [defensive, offensive]    0.0   \n",
      "61      62          Manchester United  [mixed, defensive, offensive]    1.0   \n",
      "\n",
      "    defensive  offensive  \n",
      "0         1.0        1.0  \n",
      "1         1.0        1.0  \n",
      "2         0.0        1.0  \n",
      "3         1.0        1.0  \n",
      "4         1.0        0.0  \n",
      "..        ...        ...  \n",
      "57        1.0        1.0  \n",
      "58        0.0        1.0  \n",
      "59        1.0        1.0  \n",
      "60        1.0        1.0  \n",
      "61        1.0        1.0  \n",
      "\n",
      "[62 rows x 6 columns]\n"
     ]
    }
   ],
   "source": [
    "#Matriz codificada con el metodo One-Hot de los estilos de juego para cada equipo de futbol no favorito o no visto por parte del usuario \n",
    "\n",
    "equipos_co = equipos.copy()\n",
    "for index, row in equipos.iterrows():\n",
    "    for gamestyle in row['gamestyle']:\n",
    "        equipos_co.at[index, gamestyle] = 1\n",
    "\n",
    "equipos_co = equipos_co.fillna(0)\n",
    "\n",
    "print('Matriz de equipos codificados:\\n',equipos_co)"
   ]
  },
  {
   "cell_type": "code",
   "execution_count": 182,
   "metadata": {},
   "outputs": [
    {
     "name": "stdout",
     "output_type": "stream",
     "text": [
      "Calificaciones de interes:\n",
      "    userId  teamId  rating   timestamp\n",
      "0       1       1     0.0  1667344753\n",
      "1       1       2     5.0  1667344753\n",
      "2       1       3     4.0  1667344753\n",
      "3       1       4     3.4  1667344753\n",
      "4       1       5     2.7  1667344753\n"
     ]
    }
   ],
   "source": [
    "#Lectura del CSV de las calificaciones de interes del usuario\n",
    "\n",
    "print('Calificaciones de interes:\\n',calificaciones.head())"
   ]
  },
  {
   "cell_type": "code",
   "execution_count": 183,
   "metadata": {},
   "outputs": [],
   "source": [
    "def findteamnamebyId(id):\n",
    " for index, row in equipos.iterrows():\n",
    "        if id==index+1:\n",
    "               return row[\"name\"]\n",
    "    \n",
    "    "
   ]
  },
  {
   "cell_type": "code",
   "execution_count": 184,
   "metadata": {},
   "outputs": [
    {
     "name": "stdout",
     "output_type": "stream",
     "text": [
      "Alianza Lima\n"
     ]
    }
   ],
   "source": [
    "print(findteamnamebyId(1))"
   ]
  },
  {
   "cell_type": "code",
   "execution_count": 185,
   "metadata": {},
   "outputs": [
    {
     "name": "stdout",
     "output_type": "stream",
     "text": [
      "Calificaciones de interes:\n",
      "    userId  teamId  rating\n",
      "0       1       1     0.0\n",
      "1       1       2     5.0\n",
      "2       1       3     4.0\n",
      "3       1       4     3.4\n",
      "4       1       5     2.7\n"
     ]
    },
    {
     "name": "stderr",
     "output_type": "stream",
     "text": [
      "C:\\Users\\ALEJANDRO\\AppData\\Local\\Temp\\ipykernel_7624\\910038094.py:1: FutureWarning: In a future version of pandas all arguments of DataFrame.drop except for the argument 'labels' will be keyword-only.\n",
      "  calificaciones=calificaciones.drop(\"timestamp\",1)\n"
     ]
    }
   ],
   "source": [
    "calificaciones=calificaciones.drop(\"timestamp\",1)\n",
    "print('Calificaciones de interes:\\n',calificaciones.head())"
   ]
  },
  {
   "cell_type": "code",
   "execution_count": 186,
   "metadata": {},
   "outputs": [
    {
     "name": "stdout",
     "output_type": "stream",
     "text": [
      "[{'name': 'Cienciano', 'rating': 3.8}, {'name': 'River Plate', 'rating': 3.8}, {'name': 'Boca Juniors', 'rating': 4.8}, {'name': 'Racing', 'rating': 1.8}]\n",
      "   teamId          name                      gamestyle  rating\n",
      "0       7     Cienciano         [offensive, defensive]     3.8\n",
      "1       8   River Plate  [mixed, defensive, offensive]     3.8\n",
      "2       9  Boca Juniors  [mixed, defensive, offensive]     4.8\n",
      "3      10        Racing                    [offensive]     1.8\n",
      "\n",
      "Nueva Matriz\n",
      "\n",
      "    teamId                       name                      gamestyle  mixed  \\\n",
      "0        1               Alianza Lima  [mixed, defensive, offensive]    1.0   \n",
      "1        2  Universitario de Deportes  [mixed, defensive, offensive]    1.0   \n",
      "2        3           Sporting Cristal             [offensive, mixed]    1.0   \n",
      "3        4                     Melgar         [offensive, defensive]    0.0   \n",
      "4        5              Cesar Vallejo                    [defensive]    0.0   \n",
      "5        6             Sport Huancayo         [defensive, offensive]    0.0   \n",
      "10      11              Independiente             [mixed, offensive]    1.0   \n",
      "11      12    Estudiantes de la Plata  [mixed, defensive, offensive]    1.0   \n",
      "12      13          Colon de Santa fe                    [offensive]    0.0   \n",
      "13      14        Talleres de Cordoba                    [defensive]    0.0   \n",
      "14      15                   Flamengo  [mixed, defensive, offensive]    1.0   \n",
      "15      16                  Palmeiras  [mixed, defensive, offensive]    1.0   \n",
      "16      17           Atletico Mineiro                        [mixed]    1.0   \n",
      "17      18        Atletico Paranaense                    [defensive]    0.0   \n",
      "18      19              Internacional             [offensive, mixed]    1.0   \n",
      "19      20                     Santos         [defensive, offensive]    0.0   \n",
      "20      21                  Sao Paulo                    [offensive]    0.0   \n",
      "21      22                Corinthians                    [defensive]    0.0   \n",
      "22      23    Independiente del Valle  [mixed, defensive, offensive]    1.0   \n",
      "23      24                  LDU Quito                        [mixed]    1.0   \n",
      "24      25               Barcelona SC         [defensive, offensive]    0.0   \n",
      "25      26                     Emelec                    [offensive]    0.0   \n",
      "26      27                    Olimpia         [defensive, offensive]    0.0   \n",
      "27      28                   Libertad                        [mixed]    1.0   \n",
      "28      29                    Guarani                    [defensive]    0.0   \n",
      "29      30                   Nacional                    [defensive]    0.0   \n",
      "30      31                    Peñarol                    [offensive]    0.0   \n",
      "31      32                Real Madrid  [mixed, defensive, offensive]    1.0   \n",
      "32      33               FC Barcelona  [mixed, defensive, offensive]    1.0   \n",
      "33      34         Atletico de Madrid                    [defensive]    0.0   \n",
      "34      35                     Napoli                        [mixed]    1.0   \n",
      "35      36               Liverpool FC  [mixed, defensive, offensive]    1.0   \n",
      "36      37                       Ajax             [mixed, offensive]    1.0   \n",
      "37      38                      Porto                    [offensive]    0.0   \n",
      "38      39                Club Brujas                    [defensive]    0.0   \n",
      "39      40          Bayern Leverkusen                    [offensive]    0.0   \n",
      "40      41              Bayern Munich             [mixed, offensive]    1.0   \n",
      "41      42             Inter de Milan             [mixed, defensive]    1.0   \n",
      "42      43          Tottenham Hotspur         [defensive, offensive]    0.0   \n",
      "43      44        Eintracht Frankfurt                    [offensive]    0.0   \n",
      "44      45            Sporting Lisboa                    [defensive]    0.0   \n",
      "45      46                   Marsella                    [defensive]    0.0   \n",
      "46      47                    Chelsea             [mixed, offensive]    1.0   \n",
      "47      48                   AC Milan  [mixed, defensive, offensive]    1.0   \n",
      "48      49                RB Salzburg                    [offensive]    0.0   \n",
      "49      50              Dinamo Zagreb                    [defensive]    0.0   \n",
      "50      51                 RB Leipzig             [mixed, offensive]    1.0   \n",
      "51      52           Shakhtar Donetsk                    [defensive]    0.0   \n",
      "52      53                  Celtic FC                    [defensive]    0.0   \n",
      "53      54            Manchester City  [mixed, defensive, offensive]    1.0   \n",
      "54      55          Borussia Dortmund                    [offensive]    0.0   \n",
      "55      56                    Sevilla                    [offensive]    0.0   \n",
      "56      57                  Kobenhavn                    [defensive]    0.0   \n",
      "57      58        Paris Saint-Germain  [mixed, defensive, offensive]    1.0   \n",
      "58      59                    Benfica                    [offensive]    0.0   \n",
      "59      60                   Juventus  [mixed, defensive, offensive]    1.0   \n",
      "60      61              Maccabi Haifa         [defensive, offensive]    0.0   \n",
      "61      62          Manchester United  [mixed, defensive, offensive]    1.0   \n",
      "\n",
      "    defensive  offensive  \n",
      "0         1.0        1.0  \n",
      "1         1.0        1.0  \n",
      "2         0.0        1.0  \n",
      "3         1.0        1.0  \n",
      "4         1.0        0.0  \n",
      "5         1.0        1.0  \n",
      "10        0.0        1.0  \n",
      "11        1.0        1.0  \n",
      "12        0.0        1.0  \n",
      "13        1.0        0.0  \n",
      "14        1.0        1.0  \n",
      "15        1.0        1.0  \n",
      "16        0.0        0.0  \n",
      "17        1.0        0.0  \n",
      "18        0.0        1.0  \n",
      "19        1.0        1.0  \n",
      "20        0.0        1.0  \n",
      "21        1.0        0.0  \n",
      "22        1.0        1.0  \n",
      "23        0.0        0.0  \n",
      "24        1.0        1.0  \n",
      "25        0.0        1.0  \n",
      "26        1.0        1.0  \n",
      "27        0.0        0.0  \n",
      "28        1.0        0.0  \n",
      "29        1.0        0.0  \n",
      "30        0.0        1.0  \n",
      "31        1.0        1.0  \n",
      "32        1.0        1.0  \n",
      "33        1.0        0.0  \n",
      "34        0.0        0.0  \n",
      "35        1.0        1.0  \n",
      "36        0.0        1.0  \n",
      "37        0.0        1.0  \n",
      "38        1.0        0.0  \n",
      "39        0.0        1.0  \n",
      "40        0.0        1.0  \n",
      "41        1.0        0.0  \n",
      "42        1.0        1.0  \n",
      "43        0.0        1.0  \n",
      "44        1.0        0.0  \n",
      "45        1.0        0.0  \n",
      "46        0.0        1.0  \n",
      "47        1.0        1.0  \n",
      "48        0.0        1.0  \n",
      "49        1.0        0.0  \n",
      "50        0.0        1.0  \n",
      "51        1.0        0.0  \n",
      "52        1.0        0.0  \n",
      "53        1.0        1.0  \n",
      "54        0.0        1.0  \n",
      "55        0.0        1.0  \n",
      "56        1.0        0.0  \n",
      "57        1.0        1.0  \n",
      "58        0.0        1.0  \n",
      "59        1.0        1.0  \n",
      "60        1.0        1.0  \n",
      "61        1.0        1.0  \n"
     ]
    }
   ],
   "source": [
    "#Equipos de preferencia del usuario\n",
    "usuario_interes=[\n",
    "    {'name':'Alianza Lima','rating':0.0},\n",
    "]\n",
    "user_preferences = []\n",
    "for index, row in calificaciones.iterrows():\n",
    "    if row['userId'] == 1 and index < 10 and index > 5:\n",
    "      user_preferences.append({'name':findteamnamebyId(row['teamId']),'rating':row['rating']})\n",
    "print(user_preferences)\n",
    "\n",
    "#Matriz de equipos de interes o favoritos del usuario junto con su calificacion\n",
    "\n",
    "entrada_preferences= pd.DataFrame(user_preferences)\n",
    "\n",
    "Id = equipos[equipos['name'].isin(entrada_preferences['name'].tolist())]\n",
    "entrada_preferences=pd.merge(Id,entrada_preferences)\n",
    "print(\"\\nMatriz equipos favoritos del usuario con su calificacion\\n\")\n",
    "print(entrada_preferences)\n",
    "\n",
    "#Creando nueva matriz de equipos no vistos o no favoritos\n",
    "\n",
    "resultado = equipos_co['name'].isin(entrada_preferences['name'])\n",
    "\n",
    "resultadocambiado = []\n",
    "\n",
    "for index in range(len(resultado)):\n",
    "         resultadocambiado.append(not resultado[index])\n",
    "\n",
    "newmatriz = equipos_co[resultadocambiado]\n",
    "print(\"\\nNueva Matriz codificada de los equipos no favoritos\\n\")\n",
    "print(newmatriz)"
   ]
  },
  {
   "cell_type": "code",
   "execution_count": 187,
   "metadata": {},
   "outputs": [
    {
     "name": "stdout",
     "output_type": "stream",
     "text": [
      "Equipos de Usuario Codificados:\n",
      "    teamId          name                      gamestyle  mixed  defensive  \\\n",
      "6       7     Cienciano         [offensive, defensive]    0.0        1.0   \n",
      "7       8   River Plate  [mixed, defensive, offensive]    1.0        1.0   \n",
      "8       9  Boca Juniors  [mixed, defensive, offensive]    1.0        1.0   \n",
      "9      10        Racing                    [offensive]    0.0        0.0   \n",
      "\n",
      "   offensive  \n",
      "6        1.0  \n",
      "7        1.0  \n",
      "8        1.0  \n",
      "9        1.0  \n"
     ]
    }
   ],
   "source": [
    "# Matriz de codificacion de los equipos segun los intereses del usuario\n",
    "team_user= equipos_co[equipos_co['teamId'].isin(entrada_preferences['teamId'].tolist())]\n",
    "print(\"Equipos de Usuario Codificados:\\n\",team_user)"
   ]
  },
  {
   "cell_type": "code",
   "execution_count": 188,
   "metadata": {},
   "outputs": [
    {
     "name": "stdout",
     "output_type": "stream",
     "text": [
      "Tabla de estilos del usuario: \n",
      "    mixed  defensive  offensive\n",
      "0    0.0        1.0        1.0\n",
      "1    1.0        1.0        1.0\n",
      "2    1.0        1.0        1.0\n",
      "3    0.0        0.0        1.0\n"
     ]
    },
    {
     "name": "stderr",
     "output_type": "stream",
     "text": [
      "C:\\Users\\ALEJANDRO\\AppData\\Local\\Temp\\ipykernel_7624\\4155105513.py:2: FutureWarning: In a future version of pandas all arguments of DataFrame.drop except for the argument 'labels' will be keyword-only.\n",
      "  gender_table = team_user.drop('teamId',1).drop('gamestyle',1).drop('name',1)\n",
      "C:\\Users\\ALEJANDRO\\AppData\\Local\\Temp\\ipykernel_7624\\4155105513.py:2: FutureWarning: In a future version of pandas all arguments of DataFrame.drop except for the argument 'labels' will be keyword-only.\n",
      "  gender_table = team_user.drop('teamId',1).drop('gamestyle',1).drop('name',1)\n",
      "C:\\Users\\ALEJANDRO\\AppData\\Local\\Temp\\ipykernel_7624\\4155105513.py:2: FutureWarning: In a future version of pandas all arguments of DataFrame.drop except for the argument 'labels' will be keyword-only.\n",
      "  gender_table = team_user.drop('teamId',1).drop('gamestyle',1).drop('name',1)\n"
     ]
    }
   ],
   "source": [
    "team_user = team_user.reset_index(drop=True)\n",
    "gender_table = team_user.drop('teamId',1).drop('gamestyle',1).drop('name',1)\n",
    "print(\"Tabla de estilos del usuario: \\n\",gender_table)"
   ]
  },
  {
   "cell_type": "code",
   "execution_count": 189,
   "metadata": {},
   "outputs": [
    {
     "name": "stdout",
     "output_type": "stream",
     "text": [
      "Estilo que el Usuario prefiere: \n",
      " mixed         8.6\n",
      "defensive    12.4\n",
      "offensive    14.2\n",
      "dtype: float64\n"
     ]
    }
   ],
   "source": [
    "#Vector de intereses del usuario segun sus equipos favoritos o vistos\n",
    "user_profile = gender_table.transpose().dot(entrada_preferences['rating'])\n",
    "print(\"Estilo que el Usuario prefiere: \\n\",user_profile)"
   ]
  },
  {
   "cell_type": "code",
   "execution_count": 190,
   "metadata": {},
   "outputs": [
    {
     "name": "stdout",
     "output_type": "stream",
     "text": [
      "Estilos: \n",
      "         mixed  defensive  offensive\n",
      "teamId                             \n",
      "1         1.0        1.0        1.0\n",
      "2         1.0        1.0        1.0\n",
      "3         1.0        0.0        1.0\n",
      "4         0.0        1.0        1.0\n",
      "5         0.0        1.0        0.0\n",
      "6         0.0        1.0        1.0\n",
      "11        1.0        0.0        1.0\n",
      "12        1.0        1.0        1.0\n",
      "13        0.0        0.0        1.0\n",
      "14        0.0        1.0        0.0\n",
      "15        1.0        1.0        1.0\n",
      "16        1.0        1.0        1.0\n",
      "17        1.0        0.0        0.0\n",
      "18        0.0        1.0        0.0\n",
      "19        1.0        0.0        1.0\n",
      "20        0.0        1.0        1.0\n",
      "21        0.0        0.0        1.0\n",
      "22        0.0        1.0        0.0\n",
      "23        1.0        1.0        1.0\n",
      "24        1.0        0.0        0.0\n",
      "25        0.0        1.0        1.0\n",
      "26        0.0        0.0        1.0\n",
      "27        0.0        1.0        1.0\n",
      "28        1.0        0.0        0.0\n",
      "29        0.0        1.0        0.0\n",
      "30        0.0        1.0        0.0\n",
      "31        0.0        0.0        1.0\n",
      "32        1.0        1.0        1.0\n",
      "33        1.0        1.0        1.0\n",
      "34        0.0        1.0        0.0\n",
      "35        1.0        0.0        0.0\n",
      "36        1.0        1.0        1.0\n",
      "37        1.0        0.0        1.0\n",
      "38        0.0        0.0        1.0\n",
      "39        0.0        1.0        0.0\n",
      "40        0.0        0.0        1.0\n",
      "41        1.0        0.0        1.0\n",
      "42        1.0        1.0        0.0\n",
      "43        0.0        1.0        1.0\n",
      "44        0.0        0.0        1.0\n",
      "45        0.0        1.0        0.0\n",
      "46        0.0        1.0        0.0\n",
      "47        1.0        0.0        1.0\n",
      "48        1.0        1.0        1.0\n",
      "49        0.0        0.0        1.0\n",
      "50        0.0        1.0        0.0\n",
      "51        1.0        0.0        1.0\n",
      "52        0.0        1.0        0.0\n",
      "53        0.0        1.0        0.0\n",
      "54        1.0        1.0        1.0\n",
      "55        0.0        0.0        1.0\n",
      "56        0.0        0.0        1.0\n",
      "57        0.0        1.0        0.0\n",
      "58        1.0        1.0        1.0\n",
      "59        0.0        0.0        1.0\n",
      "60        1.0        1.0        1.0\n",
      "61        0.0        1.0        1.0\n",
      "62        1.0        1.0        1.0\n"
     ]
    },
    {
     "name": "stderr",
     "output_type": "stream",
     "text": [
      "C:\\Users\\ALEJANDRO\\AppData\\Local\\Temp\\ipykernel_7624\\2521911561.py:3: FutureWarning: In a future version of pandas all arguments of DataFrame.drop except for the argument 'labels' will be keyword-only.\n",
      "  styles= styles.drop('teamId',1).drop('gamestyle',1).drop('name',1)\n",
      "C:\\Users\\ALEJANDRO\\AppData\\Local\\Temp\\ipykernel_7624\\2521911561.py:3: FutureWarning: In a future version of pandas all arguments of DataFrame.drop except for the argument 'labels' will be keyword-only.\n",
      "  styles= styles.drop('teamId',1).drop('gamestyle',1).drop('name',1)\n",
      "C:\\Users\\ALEJANDRO\\AppData\\Local\\Temp\\ipykernel_7624\\2521911561.py:3: FutureWarning: In a future version of pandas all arguments of DataFrame.drop except for the argument 'labels' will be keyword-only.\n",
      "  styles= styles.drop('teamId',1).drop('gamestyle',1).drop('name',1)\n"
     ]
    }
   ],
   "source": [
    "#Nueva Matriz codificada de los equipos no vistos o no favoritos por el usuario\n",
    "styles =  newmatriz.set_index(newmatriz['teamId'])\n",
    "styles= styles.drop('teamId',1).drop('gamestyle',1).drop('name',1)\n",
    "print(\"Estilos: \\n\",styles)"
   ]
  },
  {
   "cell_type": "code",
   "execution_count": 191,
   "metadata": {},
   "outputs": [
    {
     "name": "stdout",
     "output_type": "stream",
     "text": [
      "Recomendaciones: \n",
      " teamId\n",
      "1     1.000000\n",
      "2     1.000000\n",
      "3     0.647727\n",
      "4     0.755682\n",
      "5     0.352273\n",
      "6     0.755682\n",
      "11    0.647727\n",
      "12    1.000000\n",
      "13    0.403409\n",
      "14    0.352273\n",
      "15    1.000000\n",
      "16    1.000000\n",
      "17    0.244318\n",
      "18    0.352273\n",
      "19    0.647727\n",
      "20    0.755682\n",
      "21    0.403409\n",
      "22    0.352273\n",
      "23    1.000000\n",
      "24    0.244318\n",
      "25    0.755682\n",
      "26    0.403409\n",
      "27    0.755682\n",
      "28    0.244318\n",
      "29    0.352273\n",
      "30    0.352273\n",
      "31    0.403409\n",
      "32    1.000000\n",
      "33    1.000000\n",
      "34    0.352273\n",
      "35    0.244318\n",
      "36    1.000000\n",
      "37    0.647727\n",
      "38    0.403409\n",
      "39    0.352273\n",
      "40    0.403409\n",
      "41    0.647727\n",
      "42    0.596591\n",
      "43    0.755682\n",
      "44    0.403409\n",
      "45    0.352273\n",
      "46    0.352273\n",
      "47    0.647727\n",
      "48    1.000000\n",
      "49    0.403409\n",
      "50    0.352273\n",
      "51    0.647727\n",
      "52    0.352273\n",
      "53    0.352273\n",
      "54    1.000000\n",
      "55    0.403409\n",
      "56    0.403409\n",
      "57    0.352273\n",
      "58    1.000000\n",
      "59    0.403409\n",
      "60    1.000000\n",
      "61    0.755682\n",
      "62    1.000000\n",
      "dtype: float64\n"
     ]
    }
   ],
   "source": [
    "# Recomendacion segun el vector de intereses del usuario con la matriz codificada de los equipos no vistos o no favoritos\n",
    "recom = ((styles*user_profile).sum(axis=1))/(user_profile.sum())\n",
    "print(\"Recomendaciones: \\n\",recom)"
   ]
  },
  {
   "cell_type": "code",
   "execution_count": 192,
   "metadata": {},
   "outputs": [
    {
     "name": "stdout",
     "output_type": "stream",
     "text": [
      "Recomendaciones: \n",
      " teamId\n",
      "1     1.000000\n",
      "16    1.000000\n",
      "60    1.000000\n",
      "58    1.000000\n",
      "54    1.000000\n",
      "48    1.000000\n",
      "36    1.000000\n",
      "2     1.000000\n",
      "33    1.000000\n",
      "32    1.000000\n",
      "23    1.000000\n",
      "62    1.000000\n",
      "12    1.000000\n",
      "15    1.000000\n",
      "27    0.755682\n",
      "20    0.755682\n",
      "6     0.755682\n",
      "61    0.755682\n",
      "25    0.755682\n",
      "43    0.755682\n",
      "4     0.755682\n",
      "51    0.647727\n",
      "41    0.647727\n",
      "11    0.647727\n",
      "37    0.647727\n",
      "47    0.647727\n",
      "3     0.647727\n",
      "19    0.647727\n",
      "42    0.596591\n",
      "44    0.403409\n",
      "38    0.403409\n",
      "40    0.403409\n",
      "13    0.403409\n",
      "55    0.403409\n",
      "56    0.403409\n",
      "31    0.403409\n",
      "59    0.403409\n",
      "26    0.403409\n",
      "21    0.403409\n",
      "49    0.403409\n",
      "5     0.352273\n",
      "53    0.352273\n",
      "50    0.352273\n",
      "57    0.352273\n",
      "52    0.352273\n",
      "34    0.352273\n",
      "46    0.352273\n",
      "45    0.352273\n",
      "18    0.352273\n",
      "39    0.352273\n",
      "14    0.352273\n",
      "30    0.352273\n",
      "29    0.352273\n",
      "22    0.352273\n",
      "35    0.244318\n",
      "28    0.244318\n",
      "24    0.244318\n",
      "17    0.244318\n",
      "dtype: float64\n"
     ]
    }
   ],
   "source": [
    "recom = recom.sort_values(ascending = False)\n",
    "print(\"Recomendaciones: \\n\",recom)"
   ]
  },
  {
   "cell_type": "code",
   "execution_count": 193,
   "metadata": {},
   "outputs": [
    {
     "name": "stdout",
     "output_type": "stream",
     "text": [
      "Equipos recomendados segun sus intereses: \n",
      "                          name\n",
      "0                Alianza Lima\n",
      "1   Universitario de Deportes\n",
      "5              Sport Huancayo\n",
      "11    Estudiantes de la Plata\n",
      "14                   Flamengo\n",
      "15                  Palmeiras\n",
      "19                     Santos\n",
      "22    Independiente del Valle\n",
      "24               Barcelona SC\n",
      "26                    Olimpia\n",
      "31                Real Madrid\n",
      "32               FC Barcelona\n",
      "35               Liverpool FC\n",
      "42          Tottenham Hotspur\n",
      "47                   AC Milan\n",
      "53            Manchester City\n",
      "57        Paris Saint-Germain\n",
      "59                   Juventus\n",
      "60              Maccabi Haifa\n",
      "61          Manchester United\n"
     ]
    }
   ],
   "source": [
    "#Recomendacion final de equipos de futbol segun los intereses del usuario\n",
    "equiposfinal = equipos[equipos['teamId'].isin(recom.head(20).keys())]\n",
    "recomfinal = equiposfinal[['name']]\n",
    "print(\"Equipos recomendados segun sus intereses: \\n\",recomfinal)"
   ]
  }
 ],
 "metadata": {
  "kernelspec": {
   "display_name": "Python 3.10.5 64-bit",
   "language": "python",
   "name": "python3"
  },
  "language_info": {
   "codemirror_mode": {
    "name": "ipython",
    "version": 3
   },
   "file_extension": ".py",
   "mimetype": "text/x-python",
   "name": "python",
   "nbconvert_exporter": "python",
   "pygments_lexer": "ipython3",
   "version": "3.10.5"
  },
  "orig_nbformat": 4,
  "vscode": {
   "interpreter": {
    "hash": "dcaddd8dd83c2113be053566fe18909fed47e488f46ed8a8941ea3779c09cac5"
   }
  }
 },
 "nbformat": 4,
 "nbformat_minor": 2
}
