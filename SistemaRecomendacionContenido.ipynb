{
 "cells": [
  {
   "cell_type": "code",
   "execution_count": 62,
   "metadata": {},
   "outputs": [],
   "source": [
    "import pandas as pd\n",
    "from math import sqrt\n",
    "import numpy as np\n",
    "import matplotlib.pyplot as plt"
   ]
  },
  {
   "cell_type": "code",
   "execution_count": 63,
   "metadata": {},
   "outputs": [
    {
     "name": "stdout",
     "output_type": "stream",
     "text": [
      "Equipos de futbol:\n",
      "    teamId                       name                  gamestyle\n",
      "0       1               Alianza Lima  mixed|defensive|offensive\n",
      "1       2  Universitario de Deportes  mixed|defensive|offensive\n",
      "2       3           Sporting Cristal            offensive|mixed\n",
      "3       4                     Melgar        offensive|defensive\n",
      "4       5              Cesar Vallejo                  defensive\n"
     ]
    }
   ],
   "source": [
    "#Lectura del CSV de los equipos de futbol\n",
    "\n",
    "equipos = pd.read_csv('equipos_futbol.csv')\n",
    "calificaciones = pd.read_csv('matriz_calificaciones.csv')\n",
    "\n",
    "print('Equipos de futbol:\\n',equipos.head())"
   ]
  },
  {
   "cell_type": "code",
   "execution_count": 64,
   "metadata": {},
   "outputs": [],
   "source": [
    "#Creacion del vector para los estilos de juego de cada equipo de futbol\n",
    "\n",
    "equipos['gamestyle'] = equipos.gamestyle.str.split('|') "
   ]
  },
  {
   "cell_type": "code",
   "execution_count": 65,
   "metadata": {},
   "outputs": [
    {
     "name": "stdout",
     "output_type": "stream",
     "text": [
      "Matriz de equipos codificados:\n",
      "     teamId                       name                      gamestyle  mixed  \\\n",
      "0        1               Alianza Lima  [mixed, defensive, offensive]    1.0   \n",
      "1        2  Universitario de Deportes  [mixed, defensive, offensive]    1.0   \n",
      "2        3           Sporting Cristal             [offensive, mixed]    1.0   \n",
      "3        4                     Melgar         [offensive, defensive]    0.0   \n",
      "4        5              Cesar Vallejo                    [defensive]    0.0   \n",
      "..     ...                        ...                            ...    ...   \n",
      "57      58        Paris Saint-Germain  [mixed, defensive, offensive]    1.0   \n",
      "58      59                    Benfica                    [offensive]    0.0   \n",
      "59      60                   Juventus  [mixed, defensive, offensive]    1.0   \n",
      "60      61              Maccabi Haifa         [defensive, offensive]    0.0   \n",
      "61      62          Manchester United  [mixed, defensive, offensive]    1.0   \n",
      "\n",
      "    defensive  offensive  \n",
      "0         1.0        1.0  \n",
      "1         1.0        1.0  \n",
      "2         0.0        1.0  \n",
      "3         1.0        1.0  \n",
      "4         1.0        0.0  \n",
      "..        ...        ...  \n",
      "57        1.0        1.0  \n",
      "58        0.0        1.0  \n",
      "59        1.0        1.0  \n",
      "60        1.0        1.0  \n",
      "61        1.0        1.0  \n",
      "\n",
      "[62 rows x 6 columns]\n"
     ]
    }
   ],
   "source": [
    "#Matriz codificada con el metodo One-Hot de los estilos de juego para cada equipo de futbol\n",
    "\n",
    "equipos_co = equipos.copy()\n",
    "for index, row in equipos.iterrows():\n",
    "    for gamestyle in row['gamestyle']:\n",
    "        equipos_co.at[index, gamestyle] = 1\n",
    "\n",
    "equipos_co = equipos_co.fillna(0)\n",
    "\n",
    "print('Matriz de equipos codificados:\\n',equipos_co)"
   ]
  },
  {
   "cell_type": "code",
   "execution_count": 66,
   "metadata": {},
   "outputs": [
    {
     "name": "stdout",
     "output_type": "stream",
     "text": [
      "Calificaciones de interes:\n",
      "    userId  teamId  rating   timestamp\n",
      "0       1       1     0.0  1667344753\n",
      "1       1       2     5.0  1667344753\n",
      "2       1       3     4.0  1667344753\n",
      "3       1       4     3.4  1667344753\n",
      "4       1       5     2.7  1667344753\n"
     ]
    }
   ],
   "source": [
    "#Lectura del CSV de las calificaciones de interes del usuario\n",
    "\n",
    "print('Calificaciones de interes:\\n',calificaciones.head())"
   ]
  },
  {
   "cell_type": "code",
   "execution_count": 67,
   "metadata": {},
   "outputs": [],
   "source": [
    "def findteamnamebyId(id):\n",
    " for index, row in equipos.iterrows():\n",
    "        if id==index+1:\n",
    "               return row[\"name\"]\n",
    "    \n",
    "    "
   ]
  },
  {
   "cell_type": "code",
   "execution_count": 68,
   "metadata": {},
   "outputs": [
    {
     "name": "stdout",
     "output_type": "stream",
     "text": [
      "Alianza Lima\n"
     ]
    }
   ],
   "source": [
    "print(findteamnamebyId(1))"
   ]
  },
  {
   "cell_type": "code",
   "execution_count": 69,
   "metadata": {},
   "outputs": [
    {
     "name": "stdout",
     "output_type": "stream",
     "text": [
      "Calificaciones de interes:\n",
      "    userId  teamId  rating\n",
      "0       1       1     0.0\n",
      "1       1       2     5.0\n",
      "2       1       3     4.0\n",
      "3       1       4     3.4\n",
      "4       1       5     2.7\n"
     ]
    },
    {
     "name": "stderr",
     "output_type": "stream",
     "text": [
      "C:\\Users\\giuse\\AppData\\Local\\Temp/ipykernel_10456/910038094.py:1: FutureWarning: In a future version of pandas all arguments of DataFrame.drop except for the argument 'labels' will be keyword-only\n",
      "  calificaciones=calificaciones.drop(\"timestamp\",1)\n"
     ]
    }
   ],
   "source": [
    "calificaciones=calificaciones.drop(\"timestamp\",1)\n",
    "print('Calificaciones de interes:\\n',calificaciones.head())"
   ]
  },
  {
   "cell_type": "code",
   "execution_count": 74,
   "metadata": {},
   "outputs": [
    {
     "name": "stdout",
     "output_type": "stream",
     "text": [
      "[{'name': 'Alianza Lima', 'rating': 0.0}, {'name': 'Universitario de Deportes', 'rating': 5.0}, {'name': 'Sporting Cristal', 'rating': 4.0}, {'name': 'Melgar', 'rating': 3.4}, {'name': 'Cesar Vallejo', 'rating': 2.7}, {'name': 'Sport Huancayo', 'rating': 3.8}, {'name': 'Cienciano', 'rating': 3.8}, {'name': 'River Plate', 'rating': 3.8}, {'name': 'Boca Juniors', 'rating': 4.8}, {'name': 'Racing', 'rating': 1.8}, {'name': 'Independiente', 'rating': 3.6}, {'name': 'Estudiantes de la Plata', 'rating': 3.7}, {'name': 'Colon de Santa fe', 'rating': 3.4}, {'name': 'Talleres de Cordoba', 'rating': 3.2}, {'name': 'Flamengo', 'rating': 3.1}, {'name': 'Palmeiras', 'rating': 3.4}, {'name': 'Atletico mineiro', 'rating': 3.8}, {'name': 'Ateltico Paranaense', 'rating': 3.4}, {'name': 'Internacional', 'rating': 3.3}, {'name': 'Santos', 'rating': 3.2}, {'name': 'Sao Paulo', 'rating': 4.6}, {'name': 'Corinthians', 'rating': 3.5}, {'name': 'Independiente del Valle', 'rating': 3.2}, {'name': 'LDU Quito', 'rating': 3.1}, {'name': 'Barcelona SC', 'rating': 4.4}, {'name': 'Emelec', 'rating': 2.6}, {'name': 'Olimpia', 'rating': 3.8}, {'name': 'Libertad', 'rating': 3.9}, {'name': 'Guarani', 'rating': 4.0}, {'name': 'Nacional', 'rating': 2.0}, {'name': 'Peñarol', 'rating': 3.5}, {'name': 'Real Madrid', 'rating': 3.6}, {'name': 'FC Barcelona', 'rating': 3.2}, {'name': 'Atletico de Madrid', 'rating': 3.0}, {'name': 'Napoli', 'rating': 3.7}, {'name': 'Liverpool FC', 'rating': 4.0}, {'name': 'Ajax', 'rating': 1.6}, {'name': 'Porto', 'rating': 5.0}, {'name': 'Club Brujas', 'rating': 4.1}, {'name': 'Bayern Leverkusen', 'rating': 3.2}, {'name': 'Bayern Munich', 'rating': 2.0}, {'name': 'Inter de Milan', 'rating': 2.0}, {'name': 'Tottenham Hotspur', 'rating': 2.5}, {'name': 'Eintracht Frankfurt', 'rating': 2.0}, {'name': 'Sporting Lisboa', 'rating': 2.6}, {'name': 'Marsella', 'rating': 2.0}, {'name': 'Chelsea', 'rating': 2.7}, {'name': 'AC Milan', 'rating': 2.0}, {'name': 'RB Salzburg', 'rating': 3.4}, {'name': 'Dinamo Zagreb', 'rating': 2.0}, {'name': 'RB Leipzig', 'rating': 2.8}, {'name': 'Shakhtar Donetsk', 'rating': 5.0}, {'name': 'Celtic FC', 'rating': 2.0}, {'name': 'Manchester City', 'rating': 2.1}, {'name': 'Borussia Dortmund', 'rating': 4.3}, {'name': 'Sevilla', 'rating': 2.0}, {'name': 'Kobenhavn', 'rating': 5.0}, {'name': 'Paris Saint-Germain', 'rating': 5.0}, {'name': 'Benfica', 'rating': 1.8}, {'name': 'Juventus', 'rating': 4.9}]\n",
      "    teamId                       name                      gamestyle  rating\n",
      "0        1               Alianza Lima  [mixed, defensive, offensive]     0.0\n",
      "1        2  Universitario de Deportes  [mixed, defensive, offensive]     5.0\n",
      "2        3           Sporting Cristal             [offensive, mixed]     4.0\n",
      "3        4                     Melgar         [offensive, defensive]     3.4\n",
      "4        5              Cesar Vallejo                    [defensive]     2.7\n",
      "5        6             Sport Huancayo         [defensive, offensive]     3.8\n",
      "6        7                  Cienciano         [offensive, defensive]     3.8\n",
      "7        8                River Plate  [mixed, defensive, offensive]     3.8\n",
      "8        9               Boca Juniors  [mixed, defensive, offensive]     4.8\n",
      "9       10                     Racing                    [offensive]     1.8\n",
      "10      11              Independiente             [mixed, offensive]     3.6\n",
      "11      12    Estudiantes de la Plata  [mixed, defensive, offensive]     3.7\n",
      "12      13          Colon de Santa fe                    [offensive]     3.4\n",
      "13      14        Talleres de Cordoba                    [defensive]     3.2\n",
      "14      15                   Flamengo  [mixed, defensive, offensive]     3.1\n",
      "15      16                  Palmeiras  [mixed, defensive, offensive]     3.4\n",
      "16      17           Atletico mineiro                        [mixed]     3.8\n",
      "17      18        Ateltico Paranaense                    [defensive]     3.4\n",
      "18      19              Internacional             [offensive, mixed]     3.3\n",
      "19      20                     Santos         [defensive, offensive]     3.2\n",
      "20      21                  Sao Paulo                    [offensive]     4.6\n",
      "21      22                Corinthians                    [defensive]     3.5\n",
      "22      23    Independiente del Valle  [mixed, defensive, offensive]     3.2\n",
      "23      24                  LDU Quito                        [mixed]     3.1\n",
      "24      25               Barcelona SC         [defensive, offensive]     4.4\n",
      "25      26                     Emelec                    [offensive]     2.6\n",
      "26      27                    Olimpia         [defensive, offensive]     3.8\n",
      "27      28                   Libertad                        [mixed]     3.9\n",
      "28      29                    Guarani                    [defensive]     4.0\n",
      "29      30                   Nacional                    [defensive]     2.0\n",
      "30      31                    Peñarol                    [offensive]     3.5\n",
      "31      32                Real Madrid  [mixed, defensive, offensive]     3.6\n",
      "32      33               FC Barcelona  [mixed, defensive, offensive]     3.2\n",
      "33      34         Atletico de Madrid                    [defensive]     3.0\n",
      "34      35                     Napoli                        [mixed]     3.7\n",
      "35      36               Liverpool FC  [mixed, defensive, offensive]     4.0\n",
      "36      37                       Ajax             [mixed, offensive]     1.6\n",
      "37      38                      Porto                    [offensive]     5.0\n",
      "38      39                Club Brujas                    [defensive]     4.1\n",
      "39      40          Bayern Leverkusen                    [offensive]     3.2\n",
      "40      41              Bayern Munich             [mixed, offensive]     2.0\n",
      "41      42             Inter de Milan             [mixed, defensive]     2.0\n",
      "42      43          Tottenham Hotspur         [defensive, offensive]     2.5\n",
      "43      44        Eintracht Frankfurt                    [offensive]     2.0\n",
      "44      45            Sporting Lisboa                    [defensive]     2.6\n",
      "45      46                   Marsella                    [defensive]     2.0\n",
      "46      47                    Chelsea             [mixed, offensive]     2.7\n",
      "47      48                   AC Milan  [mixed, defensive, offensive]     2.0\n",
      "48      49                RB Salzburg                    [offensive]     3.4\n",
      "49      50              Dinamo Zagreb                    [defensive]     2.0\n",
      "50      51                 RB Leipzig             [mixed, offensive]     2.8\n",
      "51      52           Shakhtar Donetsk                    [defensive]     5.0\n",
      "52      53                  Celtic FC                    [defensive]     2.0\n",
      "53      54            Manchester City  [mixed, defensive, offensive]     2.1\n",
      "54      55          Borussia Dortmund                    [offensive]     4.3\n",
      "55      56                    Sevilla                    [offensive]     2.0\n",
      "56      57                  Kobenhavn                    [defensive]     5.0\n",
      "57      58        Paris Saint-Germain  [mixed, defensive, offensive]     5.0\n",
      "58      59                    Benfica                    [offensive]     1.8\n",
      "59      60                   Juventus  [mixed, defensive, offensive]     4.9\n"
     ]
    }
   ],
   "source": [
    "usuario_interes=[\n",
    "    {'name':'Alianza Lima','rating':0.0},\n",
    "]\n",
    "user_preferences = []\n",
    "for index, row in calificaciones.iterrows():\n",
    "    if row['userId'] == 1:\n",
    "      user_preferences.append({'name':findteamnamebyId(row['teamId']),'rating':row['rating']})\n",
    "print(user_preferences)\n",
    "entrada_preferences= pd.DataFrame(user_preferences)\n",
    "Id = equipos[equipos['name'].isin(entrada_preferences['name'].tolist())]\n",
    "entrada_preferences=pd.merge(Id,entrada_preferences)\n",
    "print(entrada_preferences)"
   ]
  },
  {
   "cell_type": "code",
   "execution_count": 75,
   "metadata": {},
   "outputs": [
    {
     "name": "stdout",
     "output_type": "stream",
     "text": [
      "Equipos de Usuario Codificados:\n",
      "     teamId                       name                      gamestyle  mixed  \\\n",
      "0        1               Alianza Lima  [mixed, defensive, offensive]    1.0   \n",
      "1        2  Universitario de Deportes  [mixed, defensive, offensive]    1.0   \n",
      "2        3           Sporting Cristal             [offensive, mixed]    1.0   \n",
      "3        4                     Melgar         [offensive, defensive]    0.0   \n",
      "4        5              Cesar Vallejo                    [defensive]    0.0   \n",
      "5        6             Sport Huancayo         [defensive, offensive]    0.0   \n",
      "6        7                  Cienciano         [offensive, defensive]    0.0   \n",
      "7        8                River Plate  [mixed, defensive, offensive]    1.0   \n",
      "8        9               Boca Juniors  [mixed, defensive, offensive]    1.0   \n",
      "9       10                     Racing                    [offensive]    0.0   \n",
      "10      11              Independiente             [mixed, offensive]    1.0   \n",
      "11      12    Estudiantes de la Plata  [mixed, defensive, offensive]    1.0   \n",
      "12      13          Colon de Santa fe                    [offensive]    0.0   \n",
      "13      14        Talleres de Cordoba                    [defensive]    0.0   \n",
      "14      15                   Flamengo  [mixed, defensive, offensive]    1.0   \n",
      "15      16                  Palmeiras  [mixed, defensive, offensive]    1.0   \n",
      "16      17           Atletico mineiro                        [mixed]    1.0   \n",
      "17      18        Ateltico Paranaense                    [defensive]    0.0   \n",
      "18      19              Internacional             [offensive, mixed]    1.0   \n",
      "19      20                     Santos         [defensive, offensive]    0.0   \n",
      "20      21                  Sao Paulo                    [offensive]    0.0   \n",
      "21      22                Corinthians                    [defensive]    0.0   \n",
      "22      23    Independiente del Valle  [mixed, defensive, offensive]    1.0   \n",
      "23      24                  LDU Quito                        [mixed]    1.0   \n",
      "24      25               Barcelona SC         [defensive, offensive]    0.0   \n",
      "25      26                     Emelec                    [offensive]    0.0   \n",
      "26      27                    Olimpia         [defensive, offensive]    0.0   \n",
      "27      28                   Libertad                        [mixed]    1.0   \n",
      "28      29                    Guarani                    [defensive]    0.0   \n",
      "29      30                   Nacional                    [defensive]    0.0   \n",
      "30      31                    Peñarol                    [offensive]    0.0   \n",
      "31      32                Real Madrid  [mixed, defensive, offensive]    1.0   \n",
      "32      33               FC Barcelona  [mixed, defensive, offensive]    1.0   \n",
      "33      34         Atletico de Madrid                    [defensive]    0.0   \n",
      "34      35                     Napoli                        [mixed]    1.0   \n",
      "35      36               Liverpool FC  [mixed, defensive, offensive]    1.0   \n",
      "36      37                       Ajax             [mixed, offensive]    1.0   \n",
      "37      38                      Porto                    [offensive]    0.0   \n",
      "38      39                Club Brujas                    [defensive]    0.0   \n",
      "39      40          Bayern Leverkusen                    [offensive]    0.0   \n",
      "40      41              Bayern Munich             [mixed, offensive]    1.0   \n",
      "41      42             Inter de Milan             [mixed, defensive]    1.0   \n",
      "42      43          Tottenham Hotspur         [defensive, offensive]    0.0   \n",
      "43      44        Eintracht Frankfurt                    [offensive]    0.0   \n",
      "44      45            Sporting Lisboa                    [defensive]    0.0   \n",
      "45      46                   Marsella                    [defensive]    0.0   \n",
      "46      47                    Chelsea             [mixed, offensive]    1.0   \n",
      "47      48                   AC Milan  [mixed, defensive, offensive]    1.0   \n",
      "48      49                RB Salzburg                    [offensive]    0.0   \n",
      "49      50              Dinamo Zagreb                    [defensive]    0.0   \n",
      "50      51                 RB Leipzig             [mixed, offensive]    1.0   \n",
      "51      52           Shakhtar Donetsk                    [defensive]    0.0   \n",
      "52      53                  Celtic FC                    [defensive]    0.0   \n",
      "53      54            Manchester City  [mixed, defensive, offensive]    1.0   \n",
      "54      55          Borussia Dortmund                    [offensive]    0.0   \n",
      "55      56                    Sevilla                    [offensive]    0.0   \n",
      "56      57                  Kobenhavn                    [defensive]    0.0   \n",
      "57      58        Paris Saint-Germain  [mixed, defensive, offensive]    1.0   \n",
      "58      59                    Benfica                    [offensive]    0.0   \n",
      "59      60                   Juventus  [mixed, defensive, offensive]    1.0   \n",
      "\n",
      "    defensive  offensive  \n",
      "0         1.0        1.0  \n",
      "1         1.0        1.0  \n",
      "2         0.0        1.0  \n",
      "3         1.0        1.0  \n",
      "4         1.0        0.0  \n",
      "5         1.0        1.0  \n",
      "6         1.0        1.0  \n",
      "7         1.0        1.0  \n",
      "8         1.0        1.0  \n",
      "9         0.0        1.0  \n",
      "10        0.0        1.0  \n",
      "11        1.0        1.0  \n",
      "12        0.0        1.0  \n",
      "13        1.0        0.0  \n",
      "14        1.0        1.0  \n",
      "15        1.0        1.0  \n",
      "16        0.0        0.0  \n",
      "17        1.0        0.0  \n",
      "18        0.0        1.0  \n",
      "19        1.0        1.0  \n",
      "20        0.0        1.0  \n",
      "21        1.0        0.0  \n",
      "22        1.0        1.0  \n",
      "23        0.0        0.0  \n",
      "24        1.0        1.0  \n",
      "25        0.0        1.0  \n",
      "26        1.0        1.0  \n",
      "27        0.0        0.0  \n",
      "28        1.0        0.0  \n",
      "29        1.0        0.0  \n",
      "30        0.0        1.0  \n",
      "31        1.0        1.0  \n",
      "32        1.0        1.0  \n",
      "33        1.0        0.0  \n",
      "34        0.0        0.0  \n",
      "35        1.0        1.0  \n",
      "36        0.0        1.0  \n",
      "37        0.0        1.0  \n",
      "38        1.0        0.0  \n",
      "39        0.0        1.0  \n",
      "40        0.0        1.0  \n",
      "41        1.0        0.0  \n",
      "42        1.0        1.0  \n",
      "43        0.0        1.0  \n",
      "44        1.0        0.0  \n",
      "45        1.0        0.0  \n",
      "46        0.0        1.0  \n",
      "47        1.0        1.0  \n",
      "48        0.0        1.0  \n",
      "49        1.0        0.0  \n",
      "50        0.0        1.0  \n",
      "51        1.0        0.0  \n",
      "52        1.0        0.0  \n",
      "53        1.0        1.0  \n",
      "54        0.0        1.0  \n",
      "55        0.0        1.0  \n",
      "56        1.0        0.0  \n",
      "57        1.0        1.0  \n",
      "58        0.0        1.0  \n",
      "59        1.0        1.0  \n"
     ]
    }
   ],
   "source": [
    "team_user= equipos_co[equipos_co['teamId'].isin(entrada_preferences['teamId'].tolist())]\n",
    "print(\"Equipos de Usuario Codificados:\\n\",team_user)"
   ]
  },
  {
   "cell_type": "code",
   "execution_count": 79,
   "metadata": {},
   "outputs": [
    {
     "name": "stdout",
     "output_type": "stream",
     "text": [
      "Tabla de estilos: \n",
      "     mixed  defensive  offensive\n",
      "0     1.0        1.0        1.0\n",
      "1     1.0        1.0        1.0\n",
      "2     1.0        0.0        1.0\n",
      "3     0.0        1.0        1.0\n",
      "4     0.0        1.0        0.0\n",
      "5     0.0        1.0        1.0\n",
      "6     0.0        1.0        1.0\n",
      "7     1.0        1.0        1.0\n",
      "8     1.0        1.0        1.0\n",
      "9     0.0        0.0        1.0\n",
      "10    1.0        0.0        1.0\n",
      "11    1.0        1.0        1.0\n",
      "12    0.0        0.0        1.0\n",
      "13    0.0        1.0        0.0\n",
      "14    1.0        1.0        1.0\n",
      "15    1.0        1.0        1.0\n",
      "16    1.0        0.0        0.0\n",
      "17    0.0        1.0        0.0\n",
      "18    1.0        0.0        1.0\n",
      "19    0.0        1.0        1.0\n",
      "20    0.0        0.0        1.0\n",
      "21    0.0        1.0        0.0\n",
      "22    1.0        1.0        1.0\n",
      "23    1.0        0.0        0.0\n",
      "24    0.0        1.0        1.0\n",
      "25    0.0        0.0        1.0\n",
      "26    0.0        1.0        1.0\n",
      "27    1.0        0.0        0.0\n",
      "28    0.0        1.0        0.0\n",
      "29    0.0        1.0        0.0\n",
      "30    0.0        0.0        1.0\n",
      "31    1.0        1.0        1.0\n",
      "32    1.0        1.0        1.0\n",
      "33    0.0        1.0        0.0\n",
      "34    1.0        0.0        0.0\n",
      "35    1.0        1.0        1.0\n",
      "36    1.0        0.0        1.0\n",
      "37    0.0        0.0        1.0\n",
      "38    0.0        1.0        0.0\n",
      "39    0.0        0.0        1.0\n",
      "40    1.0        0.0        1.0\n",
      "41    1.0        1.0        0.0\n",
      "42    0.0        1.0        1.0\n",
      "43    0.0        0.0        1.0\n",
      "44    0.0        1.0        0.0\n",
      "45    0.0        1.0        0.0\n",
      "46    1.0        0.0        1.0\n",
      "47    1.0        1.0        1.0\n",
      "48    0.0        0.0        1.0\n",
      "49    0.0        1.0        0.0\n",
      "50    1.0        0.0        1.0\n",
      "51    0.0        1.0        0.0\n",
      "52    0.0        1.0        0.0\n",
      "53    1.0        1.0        1.0\n",
      "54    0.0        0.0        1.0\n",
      "55    0.0        0.0        1.0\n",
      "56    0.0        1.0        0.0\n",
      "57    1.0        1.0        1.0\n",
      "58    0.0        0.0        1.0\n",
      "59    1.0        1.0        1.0\n"
     ]
    },
    {
     "name": "stderr",
     "output_type": "stream",
     "text": [
      "C:\\Users\\giuse\\AppData\\Local\\Temp/ipykernel_10456/448561930.py:2: FutureWarning: In a future version of pandas all arguments of DataFrame.drop except for the argument 'labels' will be keyword-only\n",
      "  gender_table = team_user.drop('teamId',1).drop('gamestyle',1).drop('name',1)\n"
     ]
    }
   ],
   "source": [
    "team_user = team_user.reset_index(drop=True)\n",
    "gender_table = team_user.drop('teamId',1).drop('gamestyle',1).drop('name',1)\n",
    "print(\"Tabla de estilos: \\n\",gender_table)"
   ]
  },
  {
   "cell_type": "code",
   "execution_count": 80,
   "metadata": {},
   "outputs": [
    {
     "name": "stdout",
     "output_type": "stream",
     "text": [
      "Estilo que el Usuario prefiere: \n",
      " mixed         88.3\n",
      "defensive    123.2\n",
      "offensive    134.3\n",
      "dtype: float64\n"
     ]
    }
   ],
   "source": [
    "user_profile = gender_table.transpose().dot(entrada_preferences['rating'])\n",
    "print(\"Estilo que el Usuario prefiere: \\n\",user_profile)"
   ]
  },
  {
   "cell_type": "code",
   "execution_count": 84,
   "metadata": {},
   "outputs": [
    {
     "name": "stdout",
     "output_type": "stream",
     "text": [
      "Estilos: \n",
      "         mixed  defensive  offensive\n",
      "teamId                             \n",
      "1         1.0        1.0        1.0\n",
      "2         1.0        1.0        1.0\n",
      "3         1.0        0.0        1.0\n",
      "4         0.0        1.0        1.0\n",
      "5         0.0        1.0        0.0\n",
      "...       ...        ...        ...\n",
      "58        1.0        1.0        1.0\n",
      "59        0.0        0.0        1.0\n",
      "60        1.0        1.0        1.0\n",
      "61        0.0        1.0        1.0\n",
      "62        1.0        1.0        1.0\n",
      "\n",
      "[62 rows x 3 columns]\n"
     ]
    },
    {
     "name": "stderr",
     "output_type": "stream",
     "text": [
      "C:\\Users\\giuse\\AppData\\Local\\Temp/ipykernel_10456/3890476460.py:2: FutureWarning: In a future version of pandas all arguments of DataFrame.drop except for the argument 'labels' will be keyword-only\n",
      "  styles= styles.drop('teamId',1).drop('gamestyle',1).drop('name',1)\n"
     ]
    }
   ],
   "source": [
    "styles =  equipos_co.set_index(equipos_co['teamId'])\n",
    "styles= styles.drop('teamId',1).drop('gamestyle',1).drop('name',1)\n",
    "print(\"Estilos: \\n\",styles)"
   ]
  },
  {
   "cell_type": "code",
   "execution_count": 87,
   "metadata": {},
   "outputs": [
    {
     "name": "stdout",
     "output_type": "stream",
     "text": [
      "Recomendaciones: \n",
      " teamId\n",
      "1    1.000000\n",
      "2    1.000000\n",
      "3    0.643725\n",
      "4    0.744650\n",
      "5    0.356275\n",
      "dtype: float64\n"
     ]
    }
   ],
   "source": [
    "recom = ((styles*user_profile).sum(axis=1))/(user_profile.sum())\n",
    "print(\"Recomendaciones: \\n\",recom.head())"
   ]
  }
 ],
 "metadata": {
  "kernelspec": {
   "display_name": "Python 3.9.7 64-bit",
   "language": "python",
   "name": "python3"
  },
  "language_info": {
   "codemirror_mode": {
    "name": "ipython",
    "version": 3
   },
   "file_extension": ".py",
   "mimetype": "text/x-python",
   "name": "python",
   "nbconvert_exporter": "python",
   "pygments_lexer": "ipython3",
   "version": "3.9.7"
  },
  "orig_nbformat": 4,
  "vscode": {
   "interpreter": {
    "hash": "faa38fa7e6a065763b845a8b9b2d71e6c8070feec4fa926125df6397186fd890"
   }
  }
 },
 "nbformat": 4,
 "nbformat_minor": 2
}
