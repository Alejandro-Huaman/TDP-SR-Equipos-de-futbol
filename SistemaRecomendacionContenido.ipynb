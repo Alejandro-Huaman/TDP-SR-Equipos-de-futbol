{
 "cells": [
  {
   "cell_type": "code",
   "execution_count": 49,
   "metadata": {},
   "outputs": [],
   "source": [
    "import pandas as pd\n",
    "from math import sqrt\n",
    "import numpy as np\n",
    "import matplotlib.pyplot as plt"
   ]
  },
  {
   "cell_type": "code",
   "execution_count": 50,
   "metadata": {},
   "outputs": [
    {
     "name": "stdout",
     "output_type": "stream",
     "text": [
      "Equipos de futbol:\n",
      "    teamId                       name                  gamestyle\n",
      "0       1               Alianza Lima  mixed|defensive|offensive\n",
      "1       2  Universitario de Deportes  mixed|defensive|offensive\n",
      "2       3           Sporting Cristal            offensive|mixed\n",
      "3       4                     Melgar        offensive|defensive\n",
      "4       5              Cesar Vallejo                  defensive\n"
     ]
    }
   ],
   "source": [
    "#Lectura del CSV de los equipos de futbol\n",
    "\n",
    "equipos = pd.read_csv('equipos_futbol.csv')\n",
    "calificaciones = pd.read_csv('matriz_calificaciones.csv')\n",
    "\n",
    "print('Equipos de futbol:\\n',equipos.head())"
   ]
  },
  {
   "cell_type": "code",
   "execution_count": 51,
   "metadata": {},
   "outputs": [],
   "source": [
    "#Creacion del vector para los estilos de juego de cada equipo de futbol\n",
    "\n",
    "equipos['gamestyle'] = equipos.gamestyle.str.split('|') "
   ]
  },
  {
   "cell_type": "code",
   "execution_count": 52,
   "metadata": {},
   "outputs": [
    {
     "name": "stdout",
     "output_type": "stream",
     "text": [
      "Matriz de equipos codificados:\n",
      "     teamId                       name                      gamestyle  mixed  \\\n",
      "0        1               Alianza Lima  [mixed, defensive, offensive]    1.0   \n",
      "1        2  Universitario de Deportes  [mixed, defensive, offensive]    1.0   \n",
      "2        3           Sporting Cristal             [offensive, mixed]    1.0   \n",
      "3        4                     Melgar         [offensive, defensive]    0.0   \n",
      "4        5              Cesar Vallejo                    [defensive]    0.0   \n",
      "..     ...                        ...                            ...    ...   \n",
      "57      58        Paris Saint-Germain  [mixed, defensive, offensive]    1.0   \n",
      "58      59                    Benfica                    [offensive]    0.0   \n",
      "59      60                   Juventus  [mixed, defensive, offensive]    1.0   \n",
      "60      61              Maccabi Haifa         [defensive, offensive]    0.0   \n",
      "61      62          Manchester United  [mixed, defensive, offensive]    1.0   \n",
      "\n",
      "    defensive  offensive  \n",
      "0         1.0        1.0  \n",
      "1         1.0        1.0  \n",
      "2         0.0        1.0  \n",
      "3         1.0        1.0  \n",
      "4         1.0        0.0  \n",
      "..        ...        ...  \n",
      "57        1.0        1.0  \n",
      "58        0.0        1.0  \n",
      "59        1.0        1.0  \n",
      "60        1.0        1.0  \n",
      "61        1.0        1.0  \n",
      "\n",
      "[62 rows x 6 columns]\n"
     ]
    }
   ],
   "source": [
    "#Matriz codificada con el metodo One-Hot de los estilos de juego para cada equipo de futbol\n",
    "\n",
    "equipos_co = equipos.copy()\n",
    "for index, row in equipos.iterrows():\n",
    "    for gamestyle in row['gamestyle']:\n",
    "        equipos_co.at[index, gamestyle] = 1\n",
    "\n",
    "equipos_co = equipos_co.fillna(0)\n",
    "\n",
    "print('Matriz de equipos codificados:\\n',equipos_co)"
   ]
  },
  {
   "cell_type": "code",
   "execution_count": 53,
   "metadata": {},
   "outputs": [
    {
     "name": "stdout",
     "output_type": "stream",
     "text": [
      "Calificaciones de interes:\n",
      "    userId  teamId  rating   timestamp\n",
      "0       1       1     0.0  1667344753\n",
      "1       1       2     5.0  1667344753\n",
      "2       1       3     4.0  1667344753\n",
      "3       1       4     3.4  1667344753\n",
      "4       1       5     2.7  1667344753\n"
     ]
    }
   ],
   "source": [
    "#Lectura del CSV de las calificaciones de interes del usuario\n",
    "\n",
    "print('Calificaciones de interes:\\n',calificaciones.head())"
   ]
  },
  {
   "cell_type": "code",
   "execution_count": 54,
   "metadata": {},
   "outputs": [],
   "source": [
    "def findteamnamebyId(id):\n",
    " for index, row in equipos.iterrows():\n",
    "    for teamname in row['name']:\n",
    "       if index == id:\n",
    "          return equipos[index][teamname]\n",
    "    "
   ]
  },
  {
   "cell_type": "code",
   "execution_count": null,
   "metadata": {},
   "outputs": [],
   "source": []
  },
  {
   "cell_type": "code",
   "execution_count": 55,
   "metadata": {},
   "outputs": [
    {
     "name": "stdout",
     "output_type": "stream",
     "text": [
      "Calificaciones de interes:\n",
      "    userId  teamId  rating\n",
      "0       1       1     0.0\n",
      "1       1       2     5.0\n",
      "2       1       3     4.0\n",
      "3       1       4     3.4\n",
      "4       1       5     2.7\n"
     ]
    },
    {
     "name": "stderr",
     "output_type": "stream",
     "text": [
      "C:\\Users\\ALEJANDRO\\AppData\\Local\\Temp\\ipykernel_10528\\910038094.py:1: FutureWarning: In a future version of pandas all arguments of DataFrame.drop except for the argument 'labels' will be keyword-only.\n",
      "  calificaciones=calificaciones.drop(\"timestamp\",1)\n"
     ]
    }
   ],
   "source": [
    "calificaciones=calificaciones.drop(\"timestamp\",1)\n",
    "print('Calificaciones de interes:\\n',calificaciones.head())"
   ]
  },
  {
   "cell_type": "code",
   "execution_count": 56,
   "metadata": {},
   "outputs": [],
   "source": [
    "usuario_interes=[\n",
    "    {'name':'Alianza Lima','rating':0.0},\n",
    "]\n",
    "user_preferences = []\n"
   ]
  },
  {
   "cell_type": "code",
   "execution_count": null,
   "metadata": {},
   "outputs": [],
   "source": []
  }
 ],
 "metadata": {
  "kernelspec": {
   "display_name": "Python 3.10.5 64-bit",
   "language": "python",
   "name": "python3"
  },
  "language_info": {
   "codemirror_mode": {
    "name": "ipython",
    "version": 3
   },
   "file_extension": ".py",
   "mimetype": "text/x-python",
   "name": "python",
   "nbconvert_exporter": "python",
   "pygments_lexer": "ipython3",
   "version": "3.10.5"
  },
  "orig_nbformat": 4,
  "vscode": {
   "interpreter": {
    "hash": "dcaddd8dd83c2113be053566fe18909fed47e488f46ed8a8941ea3779c09cac5"
   }
  }
 },
 "nbformat": 4,
 "nbformat_minor": 2
}
